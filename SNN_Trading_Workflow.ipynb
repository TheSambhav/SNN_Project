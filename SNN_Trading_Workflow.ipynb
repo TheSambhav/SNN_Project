{
 "cells": [
  {
   "cell_type": "code",
   "execution_count": null,
   "id": "92487cbe-d512-41a9-848d-fc3fb9230e06",
   "metadata": {},
   "outputs": [],
   "source": [
    "!pip install yfinance snntorch torch matplotlib pandas numpy\n"
   ]
  },
  {
   "cell_type": "code",
   "execution_count": null,
   "id": "43c53ecf-2a9a-44a1-97ff-1d46ad24d0df",
   "metadata": {},
   "outputs": [],
   "source": [
    "!pip install scikit-learn\n"
   ]
  },
  {
   "cell_type": "code",
   "execution_count": 14,
   "id": "6ba56177-8c82-49a1-bee6-62dd3afbcc90",
   "metadata": {},
   "outputs": [],
   "source": [
    "import pandas as pd"
   ]
  },
  {
   "cell_type": "code",
   "execution_count": 25,
   "id": "baa9bbde",
   "metadata": {},
   "outputs": [
    {
     "name": "stderr",
     "output_type": "stream",
     "text": [
      "[*********************100%***********************]  1 of 1 completed"
     ]
    },
    {
     "name": "stdout",
     "output_type": "stream",
     "text": [
      "Downloaded columns: MultiIndex([( 'Close', 'SPY'),\n",
      "            (  'High', 'SPY'),\n",
      "            (   'Low', 'SPY'),\n",
      "            (  'Open', 'SPY'),\n",
      "            ('Volume', 'SPY')],\n",
      "           names=['Price', 'Ticker'])\n"
     ]
    },
    {
     "name": "stderr",
     "output_type": "stream",
     "text": [
      "\n"
     ]
    }
   ],
   "source": [
    "from data_loader import load_price_data\n",
    "from preprocess import prepare_labels, create_features\n",
    "\n",
    "# Load and preprocess data\n",
    "data = load_price_data(\"SPY\", \"2017-01-01\", \"2022-01-01\")\n",
    "df = prepare_labels(data)\n",
    "\n",
    "# Create feature and label arrays\n",
    "X, Y = create_features(df)\n",
    "\n",
    "# Split into training and test sets\n",
    "split = int(0.8 * len(X))\n",
    "X_train, Y_train = X[:split], Y[:split]\n",
    "X_test, Y_test = X[split:], Y[split:]\n",
    "prices_test = df['Close'].values[split:] \n"
   ]
  },
  {
   "cell_type": "code",
   "execution_count": 26,
   "id": "5fbb077c-9cc9-43be-b628-81ef46159c4d",
   "metadata": {},
   "outputs": [
    {
     "name": "stdout",
     "output_type": "stream",
     "text": [
      "Label distribution: {np.int64(0): np.int64(66), np.int64(1): np.int64(886), np.int64(2): np.int64(50)}\n",
      "Class weights: [5.06060606 0.37697517 6.68      ]\n"
     ]
    }
   ],
   "source": [
    "from sklearn.utils.class_weight import compute_class_weight\n",
    "import numpy as np\n",
    "\n",
    "# Check class distribution\n",
    "unique, counts = np.unique(Y_train, return_counts=True)\n",
    "print(\"Label distribution:\", dict(zip(unique, counts)))\n",
    "\n",
    "# Compute balanced class weights\n",
    "weights = compute_class_weight('balanced', classes=np.unique(Y_train), y=Y_train)\n",
    "print(\"Class weights:\", weights)\n"
   ]
  },
  {
   "cell_type": "code",
   "execution_count": null,
   "id": "9b363501-0b34-42c3-8cb3-aafcc205f5f3",
   "metadata": {},
   "outputs": [],
   "source": [
    "from sklearn.ensemble import RandomForestClassifier\n",
    "\n",
    "# Train Random Forest for feature importance analysis\n",
    "clf = RandomForestClassifier()\n",
    "clf.fit(X_train, Y_train)\n",
    "\n",
    "# Display feature importance\n",
    "feature_names = ['Ret_1', 'Ret_3', 'EMA_Momentum', 'Momentum', 'Volatility']\n",
    "importances = clf.feature_importances_\n",
    "for name, score in zip(feature_names, importances):\n",
    "    print(f\"{name}: {score:.4f}\")\n"
   ]
  },
  {
   "cell_type": "code",
   "execution_count": 2,
   "id": "b4ffb419",
   "metadata": {},
   "outputs": [
    {
     "name": "stdout",
     "output_type": "stream",
     "text": [
      "Epoch 1: Loss = 0.8454, Accuracy = 42.12%\n",
      "Epoch 2: Loss = 0.3979, Accuracy = 84.73%\n",
      "Epoch 3: Loss = 0.3798, Accuracy = 84.13%\n",
      "Epoch 4: Loss = 0.3623, Accuracy = 84.93%\n",
      "Epoch 5: Loss = 0.3605, Accuracy = 84.63%\n",
      "Epoch 6: Loss = 0.3571, Accuracy = 85.13%\n",
      "Epoch 7: Loss = 0.3530, Accuracy = 85.43%\n",
      "Epoch 8: Loss = 0.3496, Accuracy = 86.33%\n",
      "Epoch 9: Loss = 0.3479, Accuracy = 86.63%\n",
      "Epoch 10: Loss = 0.3427, Accuracy = 86.13%\n",
      "Epoch 11: Loss = 0.3567, Accuracy = 86.13%\n",
      "Epoch 12: Loss = 0.3482, Accuracy = 86.33%\n",
      "Epoch 13: Loss = 0.3427, Accuracy = 85.83%\n",
      "Epoch 14: Loss = 0.3366, Accuracy = 86.13%\n",
      "Epoch 15: Loss = 0.3385, Accuracy = 86.23%\n",
      "Epoch 16: Loss = 0.3400, Accuracy = 86.83%\n",
      "Epoch 17: Loss = 0.3283, Accuracy = 86.23%\n",
      "Epoch 18: Loss = 0.3294, Accuracy = 86.83%\n",
      "Epoch 19: Loss = 0.3308, Accuracy = 86.83%\n",
      "Epoch 20: Loss = 0.3239, Accuracy = 86.53%\n"
     ]
    }
   ],
   "source": [
    "from train import train_model\n",
    "model = train_model(X_train, Y_train, num_epochs=20)\n"
   ]
  },
  {
   "cell_type": "code",
   "execution_count": null,
   "id": "789684a5",
   "metadata": {},
   "outputs": [],
   "source": [
    "from test_and_backtest import predict, backtest, plot_equity\n",
    "\n",
    "# Predict using SNN model\n",
    "preds = predict(model, X_test)\n",
    "\n",
    "# Strategy equity curve\n",
    "equity_curve_snn = backtest(prices_test, preds)\n",
    "\n",
    "# Baseline: Buy-and-hold (always long)\n",
    "buy_and_hold = [0] * len(preds)\n",
    "equity_curve_hold = backtest(prices_test, buy_and_hold)\n",
    "\n",
    "# Plot both\n",
    "import matplotlib.pyplot as plt\n",
    "\n",
    "plt.plot(equity_curve_snn, label='SNN Strategy')\n",
    "plt.plot(equity_curve_hold, label='Buy & Hold')\n",
    "plt.title(\"Equity Curve Comparison\")\n",
    "plt.xlabel(\"Time\")\n",
    "plt.ylabel(\"Portfolio Value\")\n",
    "plt.legend()\n",
    "plt.grid(True)\n",
    "plt.show()\n"
   ]
  },
  {
   "cell_type": "code",
   "execution_count": null,
   "id": "3e3bc860-3e73-4b94-a005-d9c85fb72a96",
   "metadata": {},
   "outputs": [],
   "source": [
    "from sklearn.metrics import classification_report, confusion_matrix\n",
    "\n",
    "# Get predictions on training set\n",
    "model.eval()\n",
    "with torch.no_grad():\n",
    "    outputs = model(torch.tensor(X_train, dtype=torch.float32), time_steps=20)\n",
    "    preds = torch.argmax(outputs, dim=1).numpy()\n",
    "\n",
    "print(\"Confusion Matrix:\")\n",
    "print(confusion_matrix(Y_train, preds))\n",
    "\n",
    "print(\"\\nClassification Report:\")\n",
    "print(classification_report(Y_train, preds, target_names=[\"Sell\", \"Hold\", \"Buy\"]))\n"
   ]
  },
  {
   "cell_type": "code",
   "execution_count": 3,
   "id": "6ea84ebb-3cd9-444b-9cad-0df70356fd0e",
   "metadata": {},
   "outputs": [
    {
     "name": "stdout",
     "output_type": "stream",
     "text": [
      "{np.int64(0): np.int64(66), np.int64(1): np.int64(886), np.int64(2): np.int64(50)}\n"
     ]
    }
   ],
   "source": [
    "import numpy as np\n",
    "unique, counts = np.unique(Y_train, return_counts=True)\n",
    "print(dict(zip(unique, counts)))\n"
   ]
  },
  {
   "cell_type": "code",
   "execution_count": 4,
   "id": "0523440d-8e9b-4498-a6c4-6d5fbcee0a16",
   "metadata": {},
   "outputs": [],
   "source": [
    "df = prepare_labels(data)\n"
   ]
  },
  {
   "cell_type": "code",
   "execution_count": 5,
   "id": "96ef808f-13cb-432e-9190-5766ee75239f",
   "metadata": {},
   "outputs": [
    {
     "data": {
      "text/html": [
       "<div>\n",
       "<style scoped>\n",
       "    .dataframe tbody tr th:only-of-type {\n",
       "        vertical-align: middle;\n",
       "    }\n",
       "\n",
       "    .dataframe tbody tr th {\n",
       "        vertical-align: top;\n",
       "    }\n",
       "\n",
       "    .dataframe thead th {\n",
       "        text-align: right;\n",
       "    }\n",
       "</style>\n",
       "<table border=\"1\" class=\"dataframe\">\n",
       "  <thead>\n",
       "    <tr style=\"text-align: right;\">\n",
       "      <th>Price</th>\n",
       "      <th>Close</th>\n",
       "      <th>High</th>\n",
       "      <th>Low</th>\n",
       "      <th>Open</th>\n",
       "      <th>Volume</th>\n",
       "      <th>Return</th>\n",
       "      <th>Signal</th>\n",
       "    </tr>\n",
       "    <tr>\n",
       "      <th>Date</th>\n",
       "      <th></th>\n",
       "      <th></th>\n",
       "      <th></th>\n",
       "      <th></th>\n",
       "      <th></th>\n",
       "      <th></th>\n",
       "      <th></th>\n",
       "    </tr>\n",
       "  </thead>\n",
       "  <tbody>\n",
       "    <tr>\n",
       "      <th>2017-01-04</th>\n",
       "      <td>197.867294</td>\n",
       "      <td>198.015750</td>\n",
       "      <td>197.020214</td>\n",
       "      <td>197.028942</td>\n",
       "      <td>78744400</td>\n",
       "      <td>0.005949</td>\n",
       "      <td>1.0</td>\n",
       "    </tr>\n",
       "    <tr>\n",
       "      <th>2017-01-05</th>\n",
       "      <td>197.710190</td>\n",
       "      <td>197.867387</td>\n",
       "      <td>196.906775</td>\n",
       "      <td>197.596673</td>\n",
       "      <td>78379000</td>\n",
       "      <td>-0.000794</td>\n",
       "      <td>1.0</td>\n",
       "    </tr>\n",
       "    <tr>\n",
       "      <th>2017-01-06</th>\n",
       "      <td>198.417480</td>\n",
       "      <td>198.889045</td>\n",
       "      <td>197.273475</td>\n",
       "      <td>197.823645</td>\n",
       "      <td>71559900</td>\n",
       "      <td>0.003577</td>\n",
       "      <td>1.0</td>\n",
       "    </tr>\n",
       "    <tr>\n",
       "      <th>2017-01-09</th>\n",
       "      <td>197.762512</td>\n",
       "      <td>198.295212</td>\n",
       "      <td>197.727574</td>\n",
       "      <td>198.155485</td>\n",
       "      <td>46939700</td>\n",
       "      <td>-0.003301</td>\n",
       "      <td>1.0</td>\n",
       "    </tr>\n",
       "    <tr>\n",
       "      <th>2017-01-10</th>\n",
       "      <td>197.762512</td>\n",
       "      <td>198.627049</td>\n",
       "      <td>197.369527</td>\n",
       "      <td>197.779968</td>\n",
       "      <td>63771900</td>\n",
       "      <td>0.000000</td>\n",
       "      <td>1.0</td>\n",
       "    </tr>\n",
       "    <tr>\n",
       "      <th>...</th>\n",
       "      <td>...</td>\n",
       "      <td>...</td>\n",
       "      <td>...</td>\n",
       "      <td>...</td>\n",
       "      <td>...</td>\n",
       "      <td>...</td>\n",
       "      <td>...</td>\n",
       "    </tr>\n",
       "    <tr>\n",
       "      <th>2021-12-23</th>\n",
       "      <td>449.026398</td>\n",
       "      <td>450.543504</td>\n",
       "      <td>447.156258</td>\n",
       "      <td>447.261201</td>\n",
       "      <td>56439700</td>\n",
       "      <td>0.006222</td>\n",
       "      <td>1.0</td>\n",
       "    </tr>\n",
       "    <tr>\n",
       "      <th>2021-12-27</th>\n",
       "      <td>455.381042</td>\n",
       "      <td>455.428739</td>\n",
       "      <td>450.371718</td>\n",
       "      <td>450.419414</td>\n",
       "      <td>56808600</td>\n",
       "      <td>0.014152</td>\n",
       "      <td>1.0</td>\n",
       "    </tr>\n",
       "    <tr>\n",
       "      <th>2021-12-28</th>\n",
       "      <td>455.008911</td>\n",
       "      <td>456.859978</td>\n",
       "      <td>454.236046</td>\n",
       "      <td>455.819951</td>\n",
       "      <td>47274600</td>\n",
       "      <td>-0.000817</td>\n",
       "      <td>1.0</td>\n",
       "    </tr>\n",
       "    <tr>\n",
       "      <th>2021-12-29</th>\n",
       "      <td>455.590973</td>\n",
       "      <td>456.621450</td>\n",
       "      <td>454.102490</td>\n",
       "      <td>455.113894</td>\n",
       "      <td>54503000</td>\n",
       "      <td>0.001279</td>\n",
       "      <td>1.0</td>\n",
       "    </tr>\n",
       "    <tr>\n",
       "      <th>2021-12-30</th>\n",
       "      <td>454.331543</td>\n",
       "      <td>457.041346</td>\n",
       "      <td>453.864015</td>\n",
       "      <td>456.020391</td>\n",
       "      <td>55329000</td>\n",
       "      <td>-0.002764</td>\n",
       "      <td>1.0</td>\n",
       "    </tr>\n",
       "  </tbody>\n",
       "</table>\n",
       "<p>1257 rows × 7 columns</p>\n",
       "</div>"
      ],
      "text/plain": [
       "Price            Close        High         Low        Open    Volume  \\\n",
       "Date                                                                   \n",
       "2017-01-04  197.867294  198.015750  197.020214  197.028942  78744400   \n",
       "2017-01-05  197.710190  197.867387  196.906775  197.596673  78379000   \n",
       "2017-01-06  198.417480  198.889045  197.273475  197.823645  71559900   \n",
       "2017-01-09  197.762512  198.295212  197.727574  198.155485  46939700   \n",
       "2017-01-10  197.762512  198.627049  197.369527  197.779968  63771900   \n",
       "...                ...         ...         ...         ...       ...   \n",
       "2021-12-23  449.026398  450.543504  447.156258  447.261201  56439700   \n",
       "2021-12-27  455.381042  455.428739  450.371718  450.419414  56808600   \n",
       "2021-12-28  455.008911  456.859978  454.236046  455.819951  47274600   \n",
       "2021-12-29  455.590973  456.621450  454.102490  455.113894  54503000   \n",
       "2021-12-30  454.331543  457.041346  453.864015  456.020391  55329000   \n",
       "\n",
       "Price         Return  Signal  \n",
       "Date                          \n",
       "2017-01-04  0.005949     1.0  \n",
       "2017-01-05 -0.000794     1.0  \n",
       "2017-01-06  0.003577     1.0  \n",
       "2017-01-09 -0.003301     1.0  \n",
       "2017-01-10  0.000000     1.0  \n",
       "...              ...     ...  \n",
       "2021-12-23  0.006222     1.0  \n",
       "2021-12-27  0.014152     1.0  \n",
       "2021-12-28 -0.000817     1.0  \n",
       "2021-12-29  0.001279     1.0  \n",
       "2021-12-30 -0.002764     1.0  \n",
       "\n",
       "[1257 rows x 7 columns]"
      ]
     },
     "execution_count": 5,
     "metadata": {},
     "output_type": "execute_result"
    }
   ],
   "source": [
    "df"
   ]
  },
  {
   "cell_type": "code",
   "execution_count": 6,
   "id": "ae26f85d-80dd-4951-adeb-258115c8daeb",
   "metadata": {},
   "outputs": [
    {
     "name": "stdout",
     "output_type": "stream",
     "text": [
      "<class 'pandas.core.frame.DataFrame'>\n",
      "DatetimeIndex: 1257 entries, 2017-01-04 to 2021-12-30\n",
      "Data columns (total 7 columns):\n",
      " #   Column  Non-Null Count  Dtype  \n",
      "---  ------  --------------  -----  \n",
      " 0   Close   1257 non-null   float64\n",
      " 1   High    1257 non-null   float64\n",
      " 2   Low     1257 non-null   float64\n",
      " 3   Open    1257 non-null   float64\n",
      " 4   Volume  1257 non-null   int64  \n",
      " 5   Return  1257 non-null   float64\n",
      " 6   Signal  1257 non-null   float64\n",
      "dtypes: float64(6), int64(1)\n",
      "memory usage: 78.6 KB\n"
     ]
    }
   ],
   "source": [
    "df.info()"
   ]
  },
  {
   "cell_type": "code",
   "execution_count": 7,
   "id": "4a68816b-6259-4e87-8419-d190f369edcc",
   "metadata": {},
   "outputs": [
    {
     "data": {
      "text/plain": [
       "Signal\n",
       "1.0    1123\n",
       "0.0      74\n",
       "2.0      60\n",
       "Name: count, dtype: int64"
      ]
     },
     "execution_count": 7,
     "metadata": {},
     "output_type": "execute_result"
    }
   ],
   "source": [
    "df['Signal'].value_counts()"
   ]
  },
  {
   "cell_type": "code",
   "execution_count": 8,
   "id": "08a5d5b3-d2a3-4cf2-a500-26c5a1234f80",
   "metadata": {},
   "outputs": [
    {
     "data": {
      "text/html": [
       "<div>\n",
       "<style scoped>\n",
       "    .dataframe tbody tr th:only-of-type {\n",
       "        vertical-align: middle;\n",
       "    }\n",
       "\n",
       "    .dataframe tbody tr th {\n",
       "        vertical-align: top;\n",
       "    }\n",
       "\n",
       "    .dataframe thead th {\n",
       "        text-align: right;\n",
       "    }\n",
       "</style>\n",
       "<table border=\"1\" class=\"dataframe\">\n",
       "  <thead>\n",
       "    <tr style=\"text-align: right;\">\n",
       "      <th>Price</th>\n",
       "      <th>Close</th>\n",
       "      <th>High</th>\n",
       "      <th>Low</th>\n",
       "      <th>Open</th>\n",
       "      <th>Volume</th>\n",
       "      <th>Return</th>\n",
       "      <th>Signal</th>\n",
       "    </tr>\n",
       "  </thead>\n",
       "  <tbody>\n",
       "    <tr>\n",
       "      <th>count</th>\n",
       "      <td>1257.000000</td>\n",
       "      <td>1257.000000</td>\n",
       "      <td>1257.000000</td>\n",
       "      <td>1257.000000</td>\n",
       "      <td>1.257000e+03</td>\n",
       "      <td>1257.000000</td>\n",
       "      <td>1257.000000</td>\n",
       "    </tr>\n",
       "    <tr>\n",
       "      <th>mean</th>\n",
       "      <td>286.157901</td>\n",
       "      <td>287.595471</td>\n",
       "      <td>284.494610</td>\n",
       "      <td>286.124035</td>\n",
       "      <td>8.238221e+07</td>\n",
       "      <td>0.000737</td>\n",
       "      <td>0.988862</td>\n",
       "    </tr>\n",
       "    <tr>\n",
       "      <th>std</th>\n",
       "      <td>67.986025</td>\n",
       "      <td>68.217442</td>\n",
       "      <td>67.656477</td>\n",
       "      <td>67.947004</td>\n",
       "      <td>4.506082e+07</td>\n",
       "      <td>0.011886</td>\n",
       "      <td>0.326441</td>\n",
       "    </tr>\n",
       "    <tr>\n",
       "      <th>min</th>\n",
       "      <td>197.282257</td>\n",
       "      <td>197.867387</td>\n",
       "      <td>196.452660</td>\n",
       "      <td>197.028942</td>\n",
       "      <td>2.027000e+07</td>\n",
       "      <td>-0.109424</td>\n",
       "      <td>0.000000</td>\n",
       "    </tr>\n",
       "    <tr>\n",
       "      <th>25%</th>\n",
       "      <td>238.164505</td>\n",
       "      <td>239.445719</td>\n",
       "      <td>236.461792</td>\n",
       "      <td>238.446116</td>\n",
       "      <td>5.518210e+07</td>\n",
       "      <td>-0.002938</td>\n",
       "      <td>1.000000</td>\n",
       "    </tr>\n",
       "    <tr>\n",
       "      <th>50%</th>\n",
       "      <td>263.102051</td>\n",
       "      <td>264.218674</td>\n",
       "      <td>261.593390</td>\n",
       "      <td>262.957794</td>\n",
       "      <td>6.979800e+07</td>\n",
       "      <td>0.000930</td>\n",
       "      <td>1.000000</td>\n",
       "    </tr>\n",
       "    <tr>\n",
       "      <th>75%</th>\n",
       "      <td>318.562073</td>\n",
       "      <td>320.373696</td>\n",
       "      <td>316.133915</td>\n",
       "      <td>319.215677</td>\n",
       "      <td>9.404060e+07</td>\n",
       "      <td>0.005915</td>\n",
       "      <td>1.000000</td>\n",
       "    </tr>\n",
       "    <tr>\n",
       "      <th>max</th>\n",
       "      <td>455.590973</td>\n",
       "      <td>457.041346</td>\n",
       "      <td>454.236046</td>\n",
       "      <td>456.020391</td>\n",
       "      <td>3.922207e+08</td>\n",
       "      <td>0.090603</td>\n",
       "      <td>2.000000</td>\n",
       "    </tr>\n",
       "  </tbody>\n",
       "</table>\n",
       "</div>"
      ],
      "text/plain": [
       "Price        Close         High          Low         Open        Volume  \\\n",
       "count  1257.000000  1257.000000  1257.000000  1257.000000  1.257000e+03   \n",
       "mean    286.157901   287.595471   284.494610   286.124035  8.238221e+07   \n",
       "std      67.986025    68.217442    67.656477    67.947004  4.506082e+07   \n",
       "min     197.282257   197.867387   196.452660   197.028942  2.027000e+07   \n",
       "25%     238.164505   239.445719   236.461792   238.446116  5.518210e+07   \n",
       "50%     263.102051   264.218674   261.593390   262.957794  6.979800e+07   \n",
       "75%     318.562073   320.373696   316.133915   319.215677  9.404060e+07   \n",
       "max     455.590973   457.041346   454.236046   456.020391  3.922207e+08   \n",
       "\n",
       "Price       Return       Signal  \n",
       "count  1257.000000  1257.000000  \n",
       "mean      0.000737     0.988862  \n",
       "std       0.011886     0.326441  \n",
       "min      -0.109424     0.000000  \n",
       "25%      -0.002938     1.000000  \n",
       "50%       0.000930     1.000000  \n",
       "75%       0.005915     1.000000  \n",
       "max       0.090603     2.000000  "
      ]
     },
     "execution_count": 8,
     "metadata": {},
     "output_type": "execute_result"
    }
   ],
   "source": [
    "df.describe()\n"
   ]
  },
  {
   "cell_type": "code",
   "execution_count": 9,
   "id": "785ccf2c-4919-47e2-a4d7-d78459b958fe",
   "metadata": {},
   "outputs": [
    {
     "data": {
      "text/html": [
       "<div>\n",
       "<style scoped>\n",
       "    .dataframe tbody tr th:only-of-type {\n",
       "        vertical-align: middle;\n",
       "    }\n",
       "\n",
       "    .dataframe tbody tr th {\n",
       "        vertical-align: top;\n",
       "    }\n",
       "\n",
       "    .dataframe thead th {\n",
       "        text-align: right;\n",
       "    }\n",
       "</style>\n",
       "<table border=\"1\" class=\"dataframe\">\n",
       "  <thead>\n",
       "    <tr style=\"text-align: right;\">\n",
       "      <th>Price</th>\n",
       "      <th>Close</th>\n",
       "      <th>High</th>\n",
       "      <th>Low</th>\n",
       "      <th>Open</th>\n",
       "      <th>Volume</th>\n",
       "      <th>Return</th>\n",
       "      <th>Signal</th>\n",
       "    </tr>\n",
       "    <tr>\n",
       "      <th>Price</th>\n",
       "      <th></th>\n",
       "      <th></th>\n",
       "      <th></th>\n",
       "      <th></th>\n",
       "      <th></th>\n",
       "      <th></th>\n",
       "      <th></th>\n",
       "    </tr>\n",
       "  </thead>\n",
       "  <tbody>\n",
       "    <tr>\n",
       "      <th>Close</th>\n",
       "      <td>1.000000</td>\n",
       "      <td>0.999574</td>\n",
       "      <td>0.999640</td>\n",
       "      <td>0.999439</td>\n",
       "      <td>-0.153004</td>\n",
       "      <td>0.039670</td>\n",
       "      <td>0.019402</td>\n",
       "    </tr>\n",
       "    <tr>\n",
       "      <th>High</th>\n",
       "      <td>0.999574</td>\n",
       "      <td>1.000000</td>\n",
       "      <td>0.999279</td>\n",
       "      <td>0.999699</td>\n",
       "      <td>-0.134388</td>\n",
       "      <td>0.020850</td>\n",
       "      <td>0.022328</td>\n",
       "    </tr>\n",
       "    <tr>\n",
       "      <th>Low</th>\n",
       "      <td>0.999640</td>\n",
       "      <td>0.999279</td>\n",
       "      <td>1.000000</td>\n",
       "      <td>0.999602</td>\n",
       "      <td>-0.165751</td>\n",
       "      <td>0.027037</td>\n",
       "      <td>0.021929</td>\n",
       "    </tr>\n",
       "    <tr>\n",
       "      <th>Open</th>\n",
       "      <td>0.999439</td>\n",
       "      <td>0.999699</td>\n",
       "      <td>0.999602</td>\n",
       "      <td>1.000000</td>\n",
       "      <td>-0.147264</td>\n",
       "      <td>0.015732</td>\n",
       "      <td>0.022081</td>\n",
       "    </tr>\n",
       "    <tr>\n",
       "      <th>Volume</th>\n",
       "      <td>-0.153004</td>\n",
       "      <td>-0.134388</td>\n",
       "      <td>-0.165751</td>\n",
       "      <td>-0.147264</td>\n",
       "      <td>1.000000</td>\n",
       "      <td>-0.233463</td>\n",
       "      <td>-0.013343</td>\n",
       "    </tr>\n",
       "    <tr>\n",
       "      <th>Return</th>\n",
       "      <td>0.039670</td>\n",
       "      <td>0.020850</td>\n",
       "      <td>0.027037</td>\n",
       "      <td>0.015732</td>\n",
       "      <td>-0.233463</td>\n",
       "      <td>1.000000</td>\n",
       "      <td>-0.135670</td>\n",
       "    </tr>\n",
       "    <tr>\n",
       "      <th>Signal</th>\n",
       "      <td>0.019402</td>\n",
       "      <td>0.022328</td>\n",
       "      <td>0.021929</td>\n",
       "      <td>0.022081</td>\n",
       "      <td>-0.013343</td>\n",
       "      <td>-0.135670</td>\n",
       "      <td>1.000000</td>\n",
       "    </tr>\n",
       "  </tbody>\n",
       "</table>\n",
       "</div>"
      ],
      "text/plain": [
       "Price      Close      High       Low      Open    Volume    Return    Signal\n",
       "Price                                                                       \n",
       "Close   1.000000  0.999574  0.999640  0.999439 -0.153004  0.039670  0.019402\n",
       "High    0.999574  1.000000  0.999279  0.999699 -0.134388  0.020850  0.022328\n",
       "Low     0.999640  0.999279  1.000000  0.999602 -0.165751  0.027037  0.021929\n",
       "Open    0.999439  0.999699  0.999602  1.000000 -0.147264  0.015732  0.022081\n",
       "Volume -0.153004 -0.134388 -0.165751 -0.147264  1.000000 -0.233463 -0.013343\n",
       "Return  0.039670  0.020850  0.027037  0.015732 -0.233463  1.000000 -0.135670\n",
       "Signal  0.019402  0.022328  0.021929  0.022081 -0.013343 -0.135670  1.000000"
      ]
     },
     "execution_count": 9,
     "metadata": {},
     "output_type": "execute_result"
    }
   ],
   "source": [
    "df.corr()\n"
   ]
  },
  {
   "cell_type": "code",
   "execution_count": 10,
   "id": "2c4ebdd7-7d1e-4c8e-a79d-2d1a3671942b",
   "metadata": {},
   "outputs": [
    {
     "data": {
      "image/png": "[encoded data removed]",
      "text/plain": [
       "<Figure size 640x480 with 1 Axes>"
      ]
     },
     "metadata": {},
     "output_type": "display_data"
    }
   ],
   "source": [
    "import matplotlib.pyplot as plt\n",
    "\n",
    "df['Return'].plot(title='Return over time')\n",
    "plt.grid(True)\n",
    "plt.show()\n"
   ]
  },
  {
   "cell_type": "code",
   "execution_count": 11,
   "id": "227f9dde-e510-4da0-9c1e-f97a1fbdd0a3",
   "metadata": {},
   "outputs": [
    {
     "data": {
      "image/png": "[encoded data removed]",
      "text/plain": [
       "<Figure size 640x480 with 1 Axes>"
      ]
     },
     "metadata": {},
     "output_type": "display_data"
    }
   ],
   "source": [
    "plt.plot(df['Signal'].values)\n",
    "plt.title(\"Signal Labels Over Time\")\n",
    "plt.xlabel(\"Time Step\")\n",
    "plt.ylabel(\"Label (0=Sell, 1=Hold, 2=Buy)\")\n",
    "plt.show()\n"
   ]
  },
  {
   "cell_type": "code",
   "execution_count": 21,
   "id": "63da9202-b3ce-4b3f-982f-86035b5cc72c",
   "metadata": {},
   "outputs": [
    {
     "data": {
      "image/png": "[encoded data removed]",
      "text/plain": [
       "<Figure size 1400x600 with 1 Axes>"
      ]
     },
     "metadata": {},
     "output_type": "display_data"
    }
   ],
   "source": [
    "import matplotlib.pyplot as plt\n",
    "\n",
    "# Drop rows where price or signal might be NaN\n",
    "df_plot = df.dropna(subset=['Close', 'Signal'])\n",
    "\n",
    "# Convert index to datetime if not already\n",
    "if not isinstance(df_plot.index, pd.DatetimeIndex):\n",
    "    df_plot.index = pd.to_datetime(df_plot.index)\n",
    "\n",
    "# Filter out unnecessary early data (optional)\n",
    "df_plot = df_plot[df_plot.index > '2020']\n",
    "\n",
    "# Extract\n",
    "price = df_plot['Close']\n",
    "signals = df_plot['Signal']\n",
    "buy_signals = signals == 2\n",
    "sell_signals = signals == 0\n",
    "\n",
    "# Plot\n",
    "plt.figure(figsize=(14, 6))\n",
    "plt.plot(df_plot.index, price, label='Close Price', color='gray')\n",
    "\n",
    "plt.scatter(df_plot.index[buy_signals], price[buy_signals], marker='^', color='green', s=40, label='Buy Signal')\n",
    "plt.scatter(df_plot.index[sell_signals], price[sell_signals], marker='v', color='red', s=40, label='Sell Signal')\n",
    "\n",
    "plt.title(\"Price with Buy/Sell Signals\")\n",
    "plt.xlabel(\"Date\")\n",
    "plt.ylabel(\"Price\")\n",
    "plt.xticks(rotation=45)\n",
    "plt.legend()\n",
    "plt.grid(True)\n",
    "plt.tight_layout()\n",
    "plt.show()\n"
   ]
  },
  {
   "cell_type": "code",
   "execution_count": 22,
   "id": "5a33d9b3-e465-4e1c-8f2f-36473d6232f1",
   "metadata": {},
   "outputs": [],
   "source": [
    "import numpy as np\n",
    "\n",
    "def calculate_cumulative_returns(prices, signals):\n",
    "    equity = [100000]  # starting portfolio\n",
    "    for i in range(len(signals) - 1):\n",
    "        position = 1 if signals[i] == 2 else -1 if signals[i] == 0 else 0\n",
    "        ret = (prices[i+1] - prices[i]) * position\n",
    "        equity.append(equity[-1] + ret)\n",
    "    return np.array(equity)\n"
   ]
  },
  {
   "cell_type": "code",
   "execution_count": 23,
   "id": "40285c90-1dc7-4e79-a651-1651e64e8801",
   "metadata": {},
   "outputs": [
    {
     "ename": "NameError",
     "evalue": "name 'preds' is not defined",
     "output_type": "error",
     "traceback": [
      "\u001b[31m---------------------------------------------------------------------------\u001b[39m",
      "\u001b[31mNameError\u001b[39m                                 Traceback (most recent call last)",
      "\u001b[36mCell\u001b[39m\u001b[36m \u001b[39m\u001b[32mIn[23]\u001b[39m\u001b[32m, line 1\u001b[39m\n\u001b[32m----> \u001b[39m\u001b[32m1\u001b[39m equity_snn = calculate_cumulative_returns(prices_test, \u001b[43mpreds\u001b[49m)\n\u001b[32m      3\u001b[39m \u001b[38;5;66;03m# Buy-and-hold: always long\u001b[39;00m\n\u001b[32m      4\u001b[39m hold_signals = [\u001b[32m2\u001b[39m] * \u001b[38;5;28mlen\u001b[39m(preds)\n",
      "\u001b[31mNameError\u001b[39m: name 'preds' is not defined"
     ]
    }
   ],
   "source": [
    "equity_snn = calculate_cumulative_returns(prices_test, preds)\n",
    "\n",
    "# Buy-and-hold: always long\n",
    "hold_signals = [2] * len(preds)\n",
    "equity_hold = calculate_cumulative_returns(prices_test, hold_signals)\n"
   ]
  },
  {
   "cell_type": "code",
   "execution_count": 24,
   "id": "72bbdd2c-c8c0-4d3c-ae63-c4d56235af09",
   "metadata": {},
   "outputs": [
    {
     "ename": "NameError",
     "evalue": "name 'equity_snn' is not defined",
     "output_type": "error",
     "traceback": [
      "\u001b[31m---------------------------------------------------------------------------\u001b[39m",
      "\u001b[31mNameError\u001b[39m                                 Traceback (most recent call last)",
      "\u001b[36mCell\u001b[39m\u001b[36m \u001b[39m\u001b[32mIn[24]\u001b[39m\u001b[32m, line 4\u001b[39m\n\u001b[32m      1\u001b[39m \u001b[38;5;28;01mimport\u001b[39;00m\u001b[38;5;250m \u001b[39m\u001b[34;01mmatplotlib\u001b[39;00m\u001b[34;01m.\u001b[39;00m\u001b[34;01mpyplot\u001b[39;00m\u001b[38;5;250m \u001b[39m\u001b[38;5;28;01mas\u001b[39;00m\u001b[38;5;250m \u001b[39m\u001b[34;01mplt\u001b[39;00m\n\u001b[32m      3\u001b[39m plt.figure(figsize=(\u001b[32m14\u001b[39m, \u001b[32m6\u001b[39m))\n\u001b[32m----> \u001b[39m\u001b[32m4\u001b[39m plt.plot(\u001b[43mequity_snn\u001b[49m, label=\u001b[33m'\u001b[39m\u001b[33mSNN Strategy\u001b[39m\u001b[33m'\u001b[39m, linewidth=\u001b[32m2\u001b[39m)\n\u001b[32m      5\u001b[39m plt.plot(equity_hold, label=\u001b[33m'\u001b[39m\u001b[33mBuy & Hold\u001b[39m\u001b[33m'\u001b[39m, linewidth=\u001b[32m2\u001b[39m, linestyle=\u001b[33m'\u001b[39m\u001b[33m--\u001b[39m\u001b[33m'\u001b[39m)\n\u001b[32m      7\u001b[39m plt.title(\u001b[33m\"\u001b[39m\u001b[33mCumulative Returns Comparison\u001b[39m\u001b[33m\"\u001b[39m)\n",
      "\u001b[31mNameError\u001b[39m: name 'equity_snn' is not defined"
     ]
    },
    {
     "data": {
      "text/plain": [
       "<Figure size 1400x600 with 0 Axes>"
      ]
     },
     "metadata": {},
     "output_type": "display_data"
    }
   ],
   "source": [
    "import matplotlib.pyplot as plt\n",
    "\n",
    "plt.figure(figsize=(14, 6))\n",
    "plt.plot(equity_snn, label='SNN Strategy', linewidth=2)\n",
    "plt.plot(equity_hold, label='Buy & Hold', linewidth=2, linestyle='--')\n",
    "\n",
    "plt.title(\"Cumulative Returns Comparison\")\n",
    "plt.xlabel(\"Time\")\n",
    "plt.ylabel(\"Portfolio Value\")\n",
    "plt.grid(True)\n",
    "plt.legend()\n",
    "plt.tight_layout()\n",
    "plt.show()\n"
   ]
  },
  {
   "cell_type": "code",
   "execution_count": null,
   "id": "0a5c2a95-d45f-40ea-80fb-07c2fe2dcb6e",
   "metadata": {},
   "outputs": [],
   "source": []
  }
 ],
 "metadata": {
  "kernelspec": {
   "display_name": "Python 3 (ipykernel)",
   "language": "python",
   "name": "python3"
  },
  "language_info": {
   "codemirror_mode": {
    "name": "ipython",
    "version": 3
   },
   "file_extension": ".py",
   "mimetype": "text/x-python",
   "name": "python",
   "nbconvert_exporter": "python",
   "pygments_lexer": "ipython3",
   "version": "3.11.8"
  }
 },
 "nbformat": 4,
 "nbformat_minor": 5
}
